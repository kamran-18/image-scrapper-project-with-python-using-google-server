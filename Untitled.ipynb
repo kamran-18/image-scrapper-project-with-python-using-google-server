{
 "cells": [
  {
   "cell_type": "code",
   "execution_count": 1,
   "id": "b8165506-7180-43a8-8d9c-89959ffe04c2",
   "metadata": {},
   "outputs": [],
   "source": [
    "import requests\n",
    "from bs4 import BeautifulSoup\n",
    "from urllib.request import urlopen as uReq\n",
    "import os"
   ]
  },
  {
   "cell_type": "code",
   "execution_count": 18,
   "id": "41a49be7-0383-4dc5-86b6-bce0438f4cfa",
   "metadata": {},
   "outputs": [
    {
     "name": "stdout",
     "output_type": "stream",
     "text": [
      "Requirement already satisfied: requests in /opt/conda/lib/python3.10/site-packages (2.28.1)\n",
      "Requirement already satisfied: urllib3<1.27,>=1.21.1 in /opt/conda/lib/python3.10/site-packages (from requests) (1.26.13)\n",
      "Requirement already satisfied: charset-normalizer<3,>=2 in /opt/conda/lib/python3.10/site-packages (from requests) (2.1.1)\n",
      "Requirement already satisfied: certifi>=2017.4.17 in /opt/conda/lib/python3.10/site-packages (from requests) (2022.12.7)\n",
      "Requirement already satisfied: idna<4,>=2.5 in /opt/conda/lib/python3.10/site-packages (from requests) (3.4)\n",
      "Note: you may need to restart the kernel to use updated packages.\n"
     ]
    }
   ],
   "source": [
    "pip install requests"
   ]
  },
  {
   "cell_type": "code",
   "execution_count": 2,
   "id": "319415bf-b481-47ce-b7f0-b298a67b4273",
   "metadata": {},
   "outputs": [],
   "source": [
    "#create directory to save images\n",
    "\n",
    "save_dir=\"images/\"\n",
    "if not os.path.exists(save_dir):\n",
    "    os.makedirs(save_dir)"
   ]
  },
  {
   "cell_type": "code",
   "execution_count": 3,
   "id": "9913dd64-4ffa-4c6b-a803-d871d3faee7d",
   "metadata": {},
   "outputs": [],
   "source": [
    "#hit the url\n",
    "query=\"sudhanshu kumar ineuron\"\n",
    "response = requests.get(f\"https://www.google.com/search?q={query}&sca_esv=e94c6552adb81b09&hl=en&tbm=isch&sxsrf=ACQVn087aXbOCuqEXbiBV8qU9_O-RKVoOw%3A1713416924303&source=hp&biw=1280&bih=593&ei=3KogZtueEPLe2roPt-2q-As&iflsig=ANes7DEAAAAAZiC47GAHLktXfoEjLAjvu7mNJjqiVFAf&oq=&gs_lp=EgNpbWciACoCCAAyBxAjGCcY6gIyBxAjGCcY6gIyBxAjGCcY6gIyBxAjGCcY6gIyBxAjGCcY6gIyBxAjGCcY6gIyBxAjGCcY6gIyBxAjGCcY6gIyBxAjGCcY6gIyBxAjGCcY6gJI1QhQAFgAcAF4AJABAJgBAKABAKoBALgBAcgBAIoCC2d3cy13aXotaW1nmAIBoAIKqAIKmAMKkgcBMaAHAA&sclient=img\")"
   ]
  },
  {
   "cell_type": "code",
   "execution_count": 4,
   "id": "75ac3de5-aec8-45c9-bea0-00a8907b9c63",
   "metadata": {},
   "outputs": [
    {
     "data": {
      "text/plain": [
       "<Response [200]>"
      ]
     },
     "execution_count": 4,
     "metadata": {},
     "output_type": "execute_result"
    }
   ],
   "source": [
    "response"
   ]
  },
  {
   "cell_type": "code",
   "execution_count": 6,
   "id": "df1eeaa2-cee5-443b-955c-b226635ec1fd",
   "metadata": {},
   "outputs": [],
   "source": [
    "#beautifulsoup is used to extract data\n",
    "soup=BeautifulSoup(response.content,'html.parser')"
   ]
  },
  {
   "cell_type": "code",
   "execution_count": 10,
   "id": "3a08835c-f154-4b91-b618-1d8a506ebf67",
   "metadata": {},
   "outputs": [],
   "source": [
    "\n",
    "image_tages=soup.find_all(\"img\")\n",
    "\n",
    "\n"
   ]
  },
  {
   "cell_type": "code",
   "execution_count": 13,
   "id": "f17b6ce8-af8f-4b65-9878-309422981d6c",
   "metadata": {},
   "outputs": [
    {
     "data": {
      "text/plain": [
       "21"
      ]
     },
     "execution_count": 13,
     "metadata": {},
     "output_type": "execute_result"
    }
   ],
   "source": [
    "len(image_tages)"
   ]
  },
  {
   "cell_type": "code",
   "execution_count": 15,
   "id": "466d5d97-7d15-478e-9ed3-d1c640d1ddbe",
   "metadata": {},
   "outputs": [],
   "source": [
    "del image_tages[0]"
   ]
  },
  {
   "cell_type": "code",
   "execution_count": 19,
   "id": "a709a5fb-6584-4a48-a12e-b6d6137abdfb",
   "metadata": {},
   "outputs": [],
   "source": [
    "for i in image_tages:\n",
    "    image_url=i['src']\n",
    "    image_data = requests.get(image_url).content\n",
    "    with open(os.path.join(save_dir,f\"{query}_{image_tages.index(i)}.jpg\"),\"wb\")as f:\n",
    "        f.write(image_data)"
   ]
  },
  {
   "cell_type": "code",
   "execution_count": 16,
   "id": "6f23e91b-eaf2-4c80-8a05-fc59f34a2e49",
   "metadata": {},
   "outputs": [
    {
     "data": {
      "text/plain": [
       "[<img alt=\"\" class=\"DS1iW\" src=\"https://encrypted-tbn0.gstatic.com/images?q=tbn:ANd9GcRTtqLaw3eCXveJVG6GMMT4rLPr4F1LjSofQ-8hfwnVY7eN34FB92nPixHhng&amp;s\"/>,\n",
       " <img alt=\"\" class=\"DS1iW\" src=\"https://encrypted-tbn0.gstatic.com/images?q=tbn:ANd9GcSfIFc_YBpNH6KV6G742jPfgq_0Fm91ohrK0cHQS7dXDFzARKHEPKpbb3o3uw&amp;s\"/>,\n",
       " <img alt=\"\" class=\"DS1iW\" src=\"https://encrypted-tbn0.gstatic.com/images?q=tbn:ANd9GcSyECz5RbBbmSX7nIn8KTKS7hQThH9adFIrY4amq9_BV2rfS9Ixog52MPMT3DQ&amp;s\"/>,\n",
       " <img alt=\"\" class=\"DS1iW\" src=\"https://encrypted-tbn0.gstatic.com/images?q=tbn:ANd9GcTFlbu5Vgc2ZXkC2PM8dx4Si-K-osajlblbKzCega3V58AYp9euRmeC_V6Ean4&amp;s\"/>,\n",
       " <img alt=\"\" class=\"DS1iW\" src=\"https://encrypted-tbn0.gstatic.com/images?q=tbn:ANd9GcRWOzoBHRfUKrN8-PIxpBUZOG_UN5eVLwZMGgPRVEeQtvDRIpNrcGh4hRwyTg&amp;s\"/>,\n",
       " <img alt=\"\" class=\"DS1iW\" src=\"https://encrypted-tbn0.gstatic.com/images?q=tbn:ANd9GcRQ5mjqD46gdHrnkwEnh2LXbLoYc1m6EUCUnByX1IlLMs0AO9GO3DpONREVzg&amp;s\"/>,\n",
       " <img alt=\"\" class=\"DS1iW\" src=\"https://encrypted-tbn0.gstatic.com/images?q=tbn:ANd9GcQmgNck284ckEAytnPao1WhkXST5OA2N4tbWMkrXrEz0hnZCylTlCfpz55qAeg&amp;s\"/>,\n",
       " <img alt=\"\" class=\"DS1iW\" src=\"https://encrypted-tbn0.gstatic.com/images?q=tbn:ANd9GcR-17GOzV-WKbaM3ZXIAGCnsL3ziGCwExZ5JkAEGlsqhzI1HrOMx6xI5ItIR-U&amp;s\"/>,\n",
       " <img alt=\"\" class=\"DS1iW\" src=\"https://encrypted-tbn0.gstatic.com/images?q=tbn:ANd9GcQZtVUz2kMCiSpi7c7GKyL19mpjhY0FAAhVMGMuOfRTyZPlGafub3BnOvPdjg&amp;s\"/>,\n",
       " <img alt=\"\" class=\"DS1iW\" src=\"https://encrypted-tbn0.gstatic.com/images?q=tbn:ANd9GcSf2WnlP-KMLpn3KaiIHAijkEN2CnNIbIVMfndMbtzDrNkIOPgmoFmb8KKtvbU&amp;s\"/>,\n",
       " <img alt=\"\" class=\"DS1iW\" src=\"https://encrypted-tbn0.gstatic.com/images?q=tbn:ANd9GcRkOGT2DoCeJUjKj4D6JWDtZfeiQH-7lpOiZ0LwSBPFcfJ3dog3edsBh2zhJQ&amp;s\"/>,\n",
       " <img alt=\"\" class=\"DS1iW\" src=\"https://encrypted-tbn0.gstatic.com/images?q=tbn:ANd9GcRXu8eyqE5ico3eIiGEnUmgBV_YyfwK0AhaXQH2PCHZbIU6gpsksk-A46vNJA&amp;s\"/>,\n",
       " <img alt=\"\" class=\"DS1iW\" src=\"https://encrypted-tbn0.gstatic.com/images?q=tbn:ANd9GcQoc2ahbaetI7xHZD2wXh1RgJW7UTW8h5RZwCyTdzqTVQ_TDMjmUtH3U_p6cEs&amp;s\"/>,\n",
       " <img alt=\"\" class=\"DS1iW\" src=\"https://encrypted-tbn0.gstatic.com/images?q=tbn:ANd9GcQaC--76a2sldZ_a9-2-LQVpKv-mLNn0Q3abAyOQfkAsn1mjk0Y6mu2csFyzJY&amp;s\"/>,\n",
       " <img alt=\"\" class=\"DS1iW\" src=\"https://encrypted-tbn0.gstatic.com/images?q=tbn:ANd9GcRmqUP1fY8YMLqeihJs9rHfXRiKGhwE4Rjp3pdicH308HADv6iL0bD3kfRxZQ&amp;s\"/>,\n",
       " <img alt=\"\" class=\"DS1iW\" src=\"https://encrypted-tbn0.gstatic.com/images?q=tbn:ANd9GcRR4BHyZ5CFhsHe35HtFAicXjsud_f-SFwkVk8rWb6Hey3-5NT3FMonRbfSJ6A&amp;s\"/>,\n",
       " <img alt=\"\" class=\"DS1iW\" src=\"https://encrypted-tbn0.gstatic.com/images?q=tbn:ANd9GcQ2lAofhnF18lf5PrBTjl_lJCGI5FjEErEJGHvAZQfOcn0DthghBniKXjrxd38&amp;s\"/>,\n",
       " <img alt=\"\" class=\"DS1iW\" src=\"https://encrypted-tbn0.gstatic.com/images?q=tbn:ANd9GcSx7KYkmiFESJNgsm5__uHxyx3H1GMb7L05YHnCFo30RKxbIS91uWU3T2msH2A&amp;s\"/>,\n",
       " <img alt=\"\" class=\"DS1iW\" src=\"https://encrypted-tbn0.gstatic.com/images?q=tbn:ANd9GcT1-Pp5xoboVV5EFxU4n9tKr2YF8cReTLfHxqz8SCbFem6O-NV3wpqISL9IwOk&amp;s\"/>,\n",
       " <img alt=\"\" class=\"DS1iW\" src=\"https://encrypted-tbn0.gstatic.com/images?q=tbn:ANd9GcT144St1N8pjw_1_OqV-MGY-2jAL6FFO1J0kOamlHpX76ci0Q9OHdHcEvqt-g&amp;s\"/>]"
      ]
     },
     "execution_count": 16,
     "metadata": {},
     "output_type": "execute_result"
    }
   ],
   "source": [
    "image_tages"
   ]
  },
  {
   "cell_type": "code",
   "execution_count": null,
   "id": "df6eddcd-a192-42ed-a6f8-ee19090da07f",
   "metadata": {},
   "outputs": [],
   "source": []
  }
 ],
 "metadata": {
  "kernelspec": {
   "display_name": "Python 3 (ipykernel)",
   "language": "python",
   "name": "python3"
  },
  "language_info": {
   "codemirror_mode": {
    "name": "ipython",
    "version": 3
   },
   "file_extension": ".py",
   "mimetype": "text/x-python",
   "name": "python",
   "nbconvert_exporter": "python",
   "pygments_lexer": "ipython3",
   "version": "3.10.8"
  }
 },
 "nbformat": 4,
 "nbformat_minor": 5
}
